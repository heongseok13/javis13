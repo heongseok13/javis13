{
 "cells": [
  {
   "cell_type": "code",
   "execution_count": 2,
   "metadata": {},
   "outputs": [],
   "source": [
    "import torch\n",
    "import torch.nn as nn\n",
    "import torch.optim as optim\n",
    "import torch.nn.init as init\n",
    "import time"
   ]
  },
  {
   "cell_type": "code",
   "execution_count": 3,
   "metadata": {},
   "outputs": [],
   "source": [
    "num_data=1000\n",
    "\n",
    "x=init.uniform_(torch.Tensor(num_data, 1), -5, 5)\n",
    "\n",
    "noise = init.normal_(torch.FloatTensor(num_data,1),std=2)\n",
    "\n",
    "y1=x**4+x**2\n",
    "y1_noise=(x+noise)**4+(x+noise)**2\n",
    "\n",
    "y2=x**2+x\n",
    "y2_noise=(x+noise)**2+(x+noise)"
   ]
  },
  {
   "cell_type": "code",
   "execution_count": 4,
   "metadata": {},
   "outputs": [],
   "source": [
    "model = nn.Linear(in_features=1, out_features=1) \n",
    "\n",
    "loss_func=nn.MSELoss()\n",
    "\n",
    "learning_rate=0.01\n",
    "\n",
    "optimizer=optim.SGD(model.parameters(),lr=learning_rate )"
   ]
  },
  {
   "cell_type": "code",
   "execution_count": 7,
   "metadata": {},
   "outputs": [
    {
     "name": "stdout",
     "output_type": "stream",
     "text": [
      "tensor(894935.2500)\n",
      "tensor(847959.9375)\n",
      "tensor(820416.7500)\n",
      "tensor(802132.3125)\n",
      "tensor(789923.2500)\n",
      "tensor(781768.9375)\n",
      "tensor(776322.7500)\n",
      "tensor(772685.2500)\n",
      "tensor(770255.8750)\n",
      "tensor(768633.0625)\n",
      "tensor(767549.3750)\n",
      "tensor(766825.7500)\n",
      "tensor(766342.1875)\n",
      "tensor(766019.3125)\n",
      "tensor(765803.5000)\n",
      "tensor(765659.5000)\n",
      "tensor(765563.2500)\n",
      "tensor(765499.1250)\n",
      "tensor(765456.1250)\n",
      "tensor(765427.4375)\n",
      "tensor(765408.5000)\n",
      "tensor(765395.5000)\n",
      "tensor(765387.1250)\n",
      "tensor(765381.2500)\n",
      "tensor(765377.5000)\n",
      "tensor(765375.0625)\n",
      "tensor(765373.4375)\n",
      "tensor(765372.3125)\n",
      "tensor(765371.3125)\n",
      "tensor(765370.9375)\n",
      "tensor(765370.5000)\n",
      "tensor(765370.3125)\n",
      "tensor(765370.1250)\n",
      "tensor(765370.1875)\n",
      "tensor(765370.0625)\n",
      "tensor(765370.)\n",
      "tensor(765369.9375)\n",
      "tensor(765370.)\n",
      "tensor(765370.)\n",
      "tensor(765369.9375)\n",
      "tensor(765369.8750)\n",
      "tensor(765369.9375)\n",
      "tensor(765369.9375)\n",
      "tensor(765369.9375)\n",
      "tensor(765369.8125)\n",
      "tensor(765369.8750)\n",
      "tensor(765369.8750)\n",
      "tensor(765369.8750)\n",
      "tensor(765369.9375)\n",
      "tensor(765369.8750)\n",
      "0.9816651344299316\n"
     ]
    }
   ],
   "source": [
    "label1=y1_noise\n",
    "\n",
    "num_epoch=500\n",
    "losses=[]\n",
    "\n",
    "start=time.time()\n",
    "\n",
    "if torch.cuda.is_available():\n",
    "    model=model.cuda()\n",
    "    x=x.cuda()\n",
    "    label=y1_noise.cuda()\n",
    "    \n",
    "for i in range(num_epoch):\n",
    "    \n",
    "    optimizer.zero_grad()\n",
    "    \n",
    "    output=model(x)\n",
    "    \n",
    "    loss=loss_func(output, label1)\n",
    "    loss.backward()\n",
    "    \n",
    "    optimizer.step()\n",
    "    \n",
    "    if i % 10 == 0:\n",
    "        print(loss.data.cpu()) #Tensor data의 값만 출력하고 싶을 경우 .data 사용\n",
    "    losses.append(loss.data.cpu())\n",
    "\n",
    "print(time.time()-start)"
   ]
  },
  {
   "cell_type": "code",
   "execution_count": 8,
   "metadata": {},
   "outputs": [
    {
     "data": {
      "image/png": "[encoded data removed]",
      "text/plain": [
       "<Figure size 432x288 with 1 Axes>"
      ]
     },
     "metadata": {
      "needs_background": "light"
     },
     "output_type": "display_data"
    }
   ],
   "source": [
    "import matplotlib.pyplot as plt\n",
    "%matplotlib inline\n",
    "\n",
    "x = x.cpu()\n",
    "\n",
    "plt.plot(x.data, y1_noise.cpu().data, 'rx')\n",
    "plt.plot(x.data, y1.data, 'k-')\n",
    "plt.legend(['train data', 'real data'])\n",
    "plt.title('Linear regression before training')\n",
    "plt.grid(True)\n",
    "plt.show()"
   ]
  },
  {
   "cell_type": "code",
   "execution_count": 6,
   "metadata": {},
   "outputs": [
    {
     "name": "stdout",
     "output_type": "stream",
     "text": [
      "tensor(129773.3906)\n",
      "tensor(82798.1797)\n",
      "tensor(55255.1719)\n",
      "tensor(36970.6719)\n",
      "tensor(24761.7305)\n",
      "tensor(16607.5078)\n",
      "tensor(11161.3281)\n",
      "tensor(7523.8394)\n",
      "tensor(5094.3716)\n",
      "tensor(3471.7363)\n",
      "tensor(2387.9827)\n",
      "tensor(1664.1469)\n",
      "tensor(1180.6986)\n",
      "tensor(857.8055)\n",
      "tensor(642.1456)\n",
      "tensor(498.1070)\n",
      "tensor(401.9041)\n",
      "tensor(337.6504)\n",
      "tensor(294.7356)\n",
      "tensor(266.0729)\n",
      "tensor(246.9291)\n",
      "tensor(234.1431)\n",
      "tensor(225.6033)\n",
      "tensor(219.8996)\n",
      "tensor(216.0901)\n",
      "tensor(213.5458)\n",
      "tensor(211.8465)\n",
      "tensor(210.7115)\n",
      "tensor(209.9534)\n",
      "tensor(209.4471)\n",
      "tensor(209.1089)\n",
      "tensor(208.8831)\n",
      "tensor(208.7322)\n",
      "tensor(208.6315)\n",
      "tensor(208.5642)\n",
      "tensor(208.5193)\n",
      "tensor(208.4892)\n",
      "tensor(208.4692)\n",
      "tensor(208.4558)\n",
      "tensor(208.4468)\n",
      "tensor(208.4409)\n",
      "tensor(208.4369)\n",
      "tensor(208.4342)\n",
      "tensor(208.4324)\n",
      "tensor(208.4312)\n",
      "tensor(208.4305)\n",
      "tensor(208.4299)\n",
      "tensor(208.4296)\n",
      "tensor(208.4294)\n",
      "tensor(208.4292)\n",
      "1.1004302501678467\n"
     ]
    }
   ],
   "source": [
    "label2=y2_noise\n",
    "\n",
    "num_epoch=500\n",
    "losses=[]\n",
    "\n",
    "start=time.time()\n",
    "\n",
    "if torch.cuda.is_available():\n",
    "    model=model.cuda()\n",
    "    x=x.cuda()\n",
    "    label=y2_noise.cuda()\n",
    "    \n",
    "for i in range(num_epoch):\n",
    "    \n",
    "    optimizer.zero_grad()\n",
    "    \n",
    "    output=model(x)\n",
    "    \n",
    "    loss=loss_func(output, label2)\n",
    "    loss.backward()\n",
    "    \n",
    "    optimizer.step()\n",
    "    \n",
    "    if i % 10 == 0:\n",
    "        print(loss.data.cpu()) #Tensor data의 값만 출력하고 싶을 경우 .data 사용\n",
    "    losses.append(loss.data.cpu())\n",
    "\n",
    "print(time.time()-start)\n",
    "#y2가 y1보다 빠름"
   ]
  },
  {
   "cell_type": "code",
   "execution_count": null,
   "metadata": {},
   "outputs": [],
   "source": []
  },
  {
   "cell_type": "code",
   "execution_count": null,
   "metadata": {},
   "outputs": [],
   "source": []
  }
 ],
 "metadata": {
  "kernelspec": {
   "display_name": "Python 3",
   "language": "python",
   "name": "python3"
  },
  "language_info": {
   "codemirror_mode": {
    "name": "ipython",
    "version": 3
   },
   "file_extension": ".py",
   "mimetype": "text/x-python",
   "name": "python",
   "nbconvert_exporter": "python",
   "pygments_lexer": "ipython3",
   "version": "3.7.4"
  }
 },
 "nbformat": 4,
 "nbformat_minor": 2
}
